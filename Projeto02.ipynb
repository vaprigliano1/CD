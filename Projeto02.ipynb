{
 "cells": [
  {
   "cell_type": "markdown",
   "metadata": {},
   "source": [
    "# Projeto 2 - Classificador Automático de Sentimento\n",
    "\n",
    "Você foi contratado por uma empresa parar analisar como os clientes estão reagindo a um determinado produto no Twitter. A empresa deseja que você crie um programa que irá analisar as mensagens disponíveis e classificará como \"relevante\" ou \"irrelevante\". Com isso ela deseja que mensagens negativas, que denigrem o nome do produto, ou que mereçam destaque, disparem um foco de atenção da área de marketing.<br /><br />\n",
    "Como aluno de Ciência dos Dados, você lembrou do Teorema de Bayes, mais especificamente do Classificador Naive-Bayes, que é largamente utilizado em filtros anti-spam de e-mails. O classificador permite calcular qual a probabilidade de uma mensagem ser relevante dadas as palavras em seu conteúdo.<br /><br />\n",
    "Para realizar o MVP (*minimum viable product*) do projeto, você precisa implementar uma versão do classificador que \"aprende\" o que é relevante com uma base de treinamento e compara a performance dos resultados com uma base de testes.<br /><br />\n",
    "Após validado, o seu protótipo poderá também capturar e classificar automaticamente as mensagens da plataforma.\n",
    "\n",
    "## Informações do Projeto\n",
    "\n",
    "Prazo: 13/Set até às 23:59.<br />\n",
    "Grupo: 1 ou 2 pessoas.<br /><br />\n",
    "Entregáveis via GitHub: \n",
    "* Arquivo notebook com o código do classificador, seguindo as orientações abaixo.\n",
    "* Arquivo Excel com as bases de treinamento e teste totalmente classificado.\n",
    "\n",
    "**NÃO disponibilizar o arquivo com os *access keys/tokens* do Twitter.**\n",
    "\n",
    "\n",
    "### Check 3: \n",
    "\n",
    "Até o dia 06 de Setembro às 23:59, o notebook e o xlsx devem estar no Github com as seguintes evidências: \n",
    "    * Conta no twitter criada.\n",
    "    * Produto escolhido.\n",
    "    * Arquivo Excel contendo a base de treinamento e teste já classificado.\n",
    "    \n",
    "\n",
    "Sugestão de leitura:<br />\n",
    "http://docs.tweepy.org/en/v3.5.0/index.html<br />\n",
    "https://monkeylearn.com/blog/practical-explanation-naive-bayes-classifier/"
   ]
  },
  {
   "cell_type": "markdown",
   "metadata": {},
   "source": [
    "___\n",
    "\n",
    "## Preparando o ambiente\n",
    "\n",
    "Instalando a biblioteca *tweepy* para realizar a conexão com o Twitter:"
   ]
  },
  {
   "cell_type": "code",
   "execution_count": 154,
   "metadata": {
    "collapsed": true
   },
   "outputs": [],
   "source": [
    "%%capture\n",
    "!pip install tweepy"
   ]
  },
  {
   "cell_type": "markdown",
   "metadata": {},
   "source": [
    "Importando as Bibliotecas que serão utilizadas. Esteja livre para adicionar outras."
   ]
  },
  {
   "cell_type": "code",
   "execution_count": 155,
   "metadata": {
    "collapsed": true
   },
   "outputs": [],
   "source": [
    "import tweepy\n",
    "import math\n",
    "import os.path\n",
    "import pandas as pd\n",
    "import json\n",
    "from random import shuffle\n",
    "import matplotlib.pyplot as plt"
   ]
  },
  {
   "cell_type": "markdown",
   "metadata": {},
   "source": [
    "___\n",
    "## Autenticando no  Twitter\n",
    "\n",
    "Para realizar a captura dos dados é necessário ter uma conta cadastrada no twitter:\n",
    "\n",
    "* Conta: @vaprigliano1\n",
    "\n",
    "\n",
    "1. Caso ainda não tenha uma: https://twitter.com/signup\n",
    "1. Depois é necessário registrar um app para usar a biblioteca: https://apps.twitter.com/\n",
    "1. Dentro do registro do App, na aba Keys and Access Tokens, anotar os seguintes campos:\n",
    "    1. Consumer Key (API Key)\n",
    "    1. Consumer Secret (API Secret)\n",
    "1. Mais abaixo, gere um Token e anote também:\n",
    "    1. Access Token\n",
    "    1. Access Token Secret\n",
    "    \n",
    "1. Preencha os valores no arquivo \"auth.pass\"\n",
    "\n",
    "**ATENÇÃO**: Nunca divulgue os dados desse arquivo online (GitHub, etc). Ele contém as chaves necessárias para realizar as operações no twitter de forma automática e portanto é equivalente a ser \"hackeado\". De posse desses dados, pessoas mal intencionadas podem fazer todas as operações manuais (tweetar, seguir, bloquear/desbloquear, listar os seguidores, etc). Para efeito do projeto, esse arquivo não precisa ser entregue!!!"
   ]
  },
  {
   "cell_type": "code",
   "execution_count": 156,
   "metadata": {
    "collapsed": false
   },
   "outputs": [],
   "source": [
    "#Dados de autenticação do twitter:\n",
    "\n",
    "#Coloque aqui o identificador da conta no twitter:\n",
    "\n",
    "#leitura do arquivo no formato JSON\n",
    "with open('auth.pass') as fp:    \n",
    "    data = json.load(fp)\n",
    "\n",
    "#Configurando a biblioteca. Não modificar\n",
    "auth = tweepy.OAuthHandler(data['consumer_key'], data['consumer_secret'])\n",
    "auth.set_access_token(data['access_token'], data['access_token_secret'])"
   ]
  },
  {
   "cell_type": "markdown",
   "metadata": {},
   "source": [
    "___\n",
    "## Coletando Dados\n",
    "\n",
    "Agora vamos coletar os dados. Tenha em mente que dependendo do produto escolhido, não haverá uma quantidade significativa de mensagens, ou ainda poder haver muitos retweets.<br /><br /> \n",
    "Configurando:"
   ]
  },
  {
   "cell_type": "code",
   "execution_count": 157,
   "metadata": {
    "collapsed": true
   },
   "outputs": [],
   "source": [
    "#Produto escolhido:\n",
    "produto = 'Nubank'\n",
    "\n",
    "#Quantidade mínima de mensagens capturadas:\n",
    "n = 500\n",
    "#Quantidade mínima de mensagens para a base de treinamento:\n",
    "t = 300\n",
    "\n",
    "#Filtro de língua, escolha uma na tabela ISO 639-1.\n",
    "lang = 'pt'"
   ]
  },
  {
   "cell_type": "markdown",
   "metadata": {},
   "source": [
    "Capturando os dados do twitter:"
   ]
  },
  {
   "cell_type": "code",
   "execution_count": 158,
   "metadata": {
    "collapsed": false,
    "scrolled": true
   },
   "outputs": [],
   "source": [
    "#Cria um objeto para a captura\n",
    "api = tweepy.API(auth)\n",
    "\n",
    "#Inicia a captura, para mais detalhes: ver a documentação do tweepy\n",
    "i = 1\n",
    "msgs = []\n",
    "for msg in tweepy.Cursor(api.search, q=produto, lang=lang).items():    \n",
    "    msgs.append(msg.text.lower())\n",
    "    i += 1\n",
    "    if i > n:\n",
    "        break\n",
    "\n",
    "#Embaralhando as mensagens para reduzir um possível viés\n",
    "shuffle(msgs)"
   ]
  },
  {
   "cell_type": "markdown",
   "metadata": {},
   "source": [
    "Salvando os dados em uma planilha Excel:"
   ]
  },
  {
   "cell_type": "code",
   "execution_count": 159,
   "metadata": {
    "collapsed": true
   },
   "outputs": [],
   "source": [
    "#Verifica se o arquivo não existe para não substituir um conjunto pronto\n",
    "if not os.path.isfile('./{0}.xlsx'.format(produto)):\n",
    "    \n",
    "    #Abre o arquivo para escrita\n",
    "    writer = pd.ExcelWriter('{0}.xlsx'.format(produto))\n",
    "\n",
    "    #divide o conjunto de mensagens em duas planilhas\n",
    "    dft = pd.DataFrame({'Treinamento' : pd.Series(msgs[:t])})\n",
    "    dft.to_excel(excel_writer = writer, sheet_name = 'Treinamento', index = False)\n",
    "\n",
    "    dfc = pd.DataFrame({'Teste' : pd.Series(msgs[t:])})\n",
    "    dfc.to_excel(excel_writer = writer, sheet_name = 'Teste', index = False)\n",
    "\n",
    "    #fecha o arquivo\n",
    "    writer.save()"
   ]
  },
  {
   "cell_type": "markdown",
   "metadata": {},
   "source": [
    "___\n",
    "## Classificando as Mensagens\n",
    "\n",
    "Agora você deve abrir o arquivo Excel com as mensagens capturadas e classificar na Coluna B se a mensagem é relevante ou não.<br /> \n",
    "Não se esqueça de colocar um nome para a coluna na célula **B1**.<br /><br />\n",
    "Fazer o mesmo na planilha de Controle.\n",
    "\n",
    "___\n",
    "## Montando o Classificador Naive-Bayes\n",
    "\n",
    "Com a base de treinamento montada, comece a desenvolver o classificador. Escreva o seu código abaixo:\n",
    "\n",
    "Opcionalmente: \n",
    "* Limpar as mensagens removendo os caracteres: enter, :, \", ', (, ), etc. Não remover emojis.<br />\n",
    "* Corrigir separação de espaços entre palavras e/ou emojis.\n",
    "* Propor outras limpezas/transformações que não afetem a qualidade da informação.\n",
    "\n"
   ]
  },
  {
   "cell_type": "code",
   "execution_count": 160,
   "metadata": {
    "collapsed": false
   },
   "outputs": [],
   "source": [
    "#limpando os comentarios\n",
    "\n",
    "limpa = [ ',', '\"', '(', ')','.',',']\n",
    "dados = pd.read_excel('Nubank.xlsx',sep=',')\n",
    "\n",
    "for palavra in limpa: dados['Treinamento'] = dados['Treinamento'].str.replace(palavra, ' ')  #remove as palavras da lista \"limpa\""
   ]
  },
  {
   "cell_type": "code",
   "execution_count": 161,
   "metadata": {
    "collapsed": false
   },
   "outputs": [],
   "source": [
    "d = (dados['Relevante'].value_counts(sort=False, normalize=True)*100).round(decimals=1)  #frequencia de relevantes e não relevantes\n",
    "\n",
    "pr = d['sim'] #probabilidade de ser relevante\n",
    "pn = d['não'] #probabilidade de nao ser relevante\n",
    "\n",
    "treinamento = dados.Treinamento.apply(lambda x: pd.value_counts(x.split(\" \"))).sum(axis = 0) #frequencia absoluta de cada palavra\n",
    "tr = dados.Treinamento[dados.Relevante == 'sim'].apply(lambda x: pd.value_counts(x.split(\" \"))).sum(axis = 0) #frequencia absoluta de cada palavra nos relevante\n",
    "tn = dados.Treinamento[dados.Relevante == 'não'].apply(lambda x: pd.value_counts(x.split(\" \"))).sum(axis = 0) #frequencia absoluta de cada palavra nos nao relevantes\n",
    "nr = tr[0]  #numero total absoluto de palavras nos relevantes\n",
    "nn = tn[0]  #numero total absoluto de palavras nos nAO relevantes\n",
    "n = len(treinamento) #numero total de palavras (sem contar repeticoes) (possible words)\n",
    "\n",
    "nr = nr.item()\n",
    "nn = nn.item()\n",
    "\n",
    "nr = int(nr)\n",
    "nn = int(nn)\n",
    "\n",
    "freqr = pd.DataFrame(tr)\n",
    "freqn = pd.DataFrame(tn)\n",
    "\n",
    "lf = []  \n",
    "ln = [] \n",
    "\n",
    "\n",
    "for i in range(len(freqr)):\n",
    "    x = (((freqr.iat[i,0])+1)/(nr+n))*pr\n",
    "    lf.append(x)\n",
    "    \n",
    "\n",
    "for i in range(len(freqn)):\n",
    "    x = (((freqn.iat[i,0])+1)/(nn+n))*pn\n",
    "    ln.append(x)\n",
    "\n",
    "lr = freqr.index.tolist() \n",
    "l = freqn.index.tolist() \n",
    "\n",
    "dr = {}\n",
    "dn = {}\n",
    "\n",
    "for i in range(len(freqr)):\n",
    "    dr[lr[i]] = lf[i]\n",
    "    \n",
    "for i in range(len(freqn)):\n",
    "    dn[l[i]] = ln[i]"
   ]
  },
  {
   "cell_type": "code",
   "execution_count": 162,
   "metadata": {
    "collapsed": false
   },
   "outputs": [],
   "source": [
    "#testando o código\n",
    "\n",
    "teste = pd.read_excel('Nubank.xlsx',sep=',', sheetname=\"Teste\")\n",
    "t1 = 0\n",
    "for index, row in teste.iterrows():\n",
    "    y1 = 1\n",
    "    y2 = 1\n",
    "\n",
    "    p = row['Treinamento'] #proprio tweet\n",
    "    l = p.split() #lista de palavras de um tweet\n",
    "    for i in l:\n",
    "        if i in dr:\n",
    "            y1 *= (dr[i])\n",
    "        if i in dn:\n",
    "            y2 *= (dn[i])\n",
    "    if y1>y2:\n",
    "        teste.set_value(index, 'Relevante', 'sim')\n",
    "        ui = t1+1        \n",
    "        \n",
    "    else:\n",
    "        teste.set_value(index, 'Relevante', 'não')\n",
    "    \n",
    "# Create a Pandas Excel writer using XlsxWriter as the engine.\n",
    "writer = pd.ExcelWriter('resultado.xlsx', engine='xlsxwriter')\n",
    "\n",
    "# Convert the dataframe to an XlsxWriter Excel object.\n",
    "teste.to_excel(writer, sheet_name='Testado')\n",
    "\n",
    "# Close the Pandas Excel writer and output the Excel file.\n",
    "writer.save()\n"
   ]
  },
  {
   "cell_type": "markdown",
   "metadata": {},
   "source": [
    "___\n",
    "## Verificando a performance\n",
    "\n",
    "Agora você deve testar o seu Classificador com a base de Testes.<br /><br /> \n",
    "\n",
    "Você deve extrair as seguintes medidas:\n",
    "* Porcentagem de positivos falsos (marcados como relevante mas não são relevantes)\n",
    "* Porcentagem de positivos verdadeiros (marcado como relevante e são relevantes)\n",
    "* Porcentagem de negativos verdadeiros (marcado como não relevante e não são relevantes)\n",
    "* Porcentagem de negativos falsos (marcado como não relevante e são relevantes)\n",
    "\n",
    "Opcionalmente:\n",
    "* Criar categorias intermediárias de relevância baseado na diferença de probabilidades. Exemplo: muito relevante, relevante, neutro, irrelevante e muito irrelevante."
   ]
  },
  {
   "cell_type": "code",
   "execution_count": 163,
   "metadata": {
    "collapsed": false
   },
   "outputs": [
    {
     "data": {
      "image/png": "[encoded data removed]",
      "text/plain": [
       "<matplotlib.figure.Figure at 0x116545080>"
      ]
     },
     "metadata": {},
     "output_type": "display_data"
    }
   ],
   "source": [
    "pv = 0\n",
    "pf = 0 \n",
    "nv = 0\n",
    "nf = 0\n",
    "\n",
    "dados2 = pd.read_excel('Nubank.xlsx',sep=',', sheetname=\"Teste\")\n",
    "n = len(teste) #usando como amostra a quantidade de valores na planilha \"Teste\"\n",
    "\n",
    "for i, row in teste.iterrows():\n",
    "        a1 = row[\"Relevante\"] #pega os valores de cada linha da coluna \"relevante\"\n",
    "        a2 = dados2.Relevante[i]\n",
    "\n",
    "        if a1 == \"sim\" and a2 == \"sim\":\n",
    "            pv = pv +1\n",
    "       \n",
    "        if  a1 == \"não\" and a2 == \"sim\":\n",
    "            pf = pf + 1\n",
    "    \n",
    "        if a1 == \"não\" and a2 == \"não\":\n",
    "            nv = nv + 1\n",
    "         \n",
    "        if a1 == \"sim\" and a2 == \"não\":\n",
    "            nf = nf + 1\n",
    "                        \n",
    "vf1 = ((pv/n)*100) \n",
    "vf2 = ((pf/n)*100)\n",
    "vf3 = ((nv/n)*100)\n",
    "vf4 = ((nf/n)*100)\n",
    "\n",
    "\n",
    "import matplotlib.pyplot as plt\n",
    "\n",
    "\n",
    "plt.pie(lv, labels=['Positivo verdadeiro','Positivo Falso','Negativo Verdadeiro','Negativo Falso'],pctdistance=0.7, labeldistance=1.1, center=(0, 0), autopct='%1.1f%%')               \n",
    "plt.axis('equal')\n",
    "plt.title(\"Porcentagens\")\n",
    "plt.show()\n",
    "\n",
    "\n",
    "     \n",
    "        "
   ]
  },
  {
   "cell_type": "markdown",
   "metadata": {
    "collapsed": true
   },
   "source": [
    "___\n",
    "## Concluindo\n",
    "\n",
    "Escreva aqui a sua conclusão.<br /> \n",
    "Faça um comparativo qualitativo sobre as medidas obtidas.<br />\n",
    "Explique como são tratadas as mensagens com dupla negação e sarcasmo.<br />\n",
    "Proponha um plano de expansão. Por que eles devem continuar financiando o seu projeto?<br />\n",
    "\n",
    "Opcionalmente: \n",
    "* Discorrer por que não posso alimentar minha base de Treinamento automaticamente usando o próprio classificador, aplicado a novos tweets.\n",
    "* Propor diferentes cenários de uso para o classificador Naive-Bayes. Cenários sem intersecção com este projeto.\n",
    "* Sugerir e explicar melhorias reais no classificador com indicações concretas de como implementar (não é preciso codificar, mas indicar como fazer e material de pesquisa sobre o assunto).\n"
   ]
  },
  {
   "cell_type": "markdown",
   "metadata": {
    "collapsed": true
   },
   "source": [
    "    A partir de toda a análise feita nas linhas acima pode-se fazer uma conclusão final sobre a relevância dos tweets feitos sobre o produto escolhido, no caso o Nubank.\n",
    "    \n",
    "    Para início dessa conclusao deve-se fazer uma comparação dos números finais, ou seja a real relevância de cada tweet, nomeados de positivos verdadeiros ou falsos e o mesmo para negativos, verdadeiros ou falsos. Como visto no gráfico acima, a porcentagem de classificação para positivos verdadeiros é baixíssima o que mostra uma inconsistência do programa, além do que há um valor significativo para positivos falsos, ou seja marcados equivocadamente como relevantes, representado 37,1% dos valores. Por outro lado o programa se mostrou eficiente na observação de negativos, pois os comentários marcados como não relevantes que realmente nao são, se mostram como 48,5% da classificação, mesmo que negativos falsos, apresentem 13,9% da classificação, e seja para casos em que se classificou de uma maneira e a filtragem teve que corrigi-los para sua real relevância. Pode-se afirmar que a porcentagem de \"acertos\" na classificação foi baixa, 49% do total, ou seja aquilo que foi classificado se manteve na mesma classificação após filtragem do sistema em 49% dos casos, isso mostra um certa ineficiência do sistema por um lado, mas também pode ser positivo se observar apenas os valores de classificação para irrelevantes, que apresentam quase metade de todos os valores. \n",
    "    \n",
    "    A seguir deve-se destacar o método de funcionamento do programa. Isso porque ele se baseia em uma análise de palavra em palavra até que se complete cada um dos tweets, para que então se classifique de acordo com sua relevância. Para que se observe um tweet com dupla negação ou sarcasmo, ou seja efeitos de sentido, seria necessário analisar a frase como um todo, o que não é possível por conta da maneira de leitura do sistema. Dessa forma mensagens que apresentem algum desses dois tipos de efeito, dupla negação e/ou sarcasmo, são classificados como normais em relevantes ou irrelevantes mesmo que alguns daqueles dois mude seu real significado. Infelizmente isso se aponta como uma inconsistência do sistema.\n",
    "    \n",
    "    Por fim é válido afirmar que apesar de o \"acerto\" não ser tão alto como se esperava, o projeto tende a melhorar, ou seja os comentários verdadeiros devem aumentar em porcentagem se o projeto continuar sendo desenvolvido. Isso por conta de melhorias no código de filtragem, maior atenção na classificação inicial e por ser um projeto relevante como um todo, afinal a partir do uso deste sistema é possível saber como são tratados os assuntos no Twitter (nesse caso), ou seja mais sérios e formais, porcentagem de comentários relevantes reais maior, ou de maneira mais informal e de âmbito menos relevantes, porcentagem de comentários irrelevantes maior. Dessa forma defende-se que o projeto possa ser levado adiante e continua sendo financiado para posteriores análises mais complexas e de maior eficiência."
   ]
  },
  {
   "cell_type": "code",
   "execution_count": null,
   "metadata": {
    "collapsed": true
   },
   "outputs": [],
   "source": []
  }
 ],
 "metadata": {
  "kernelspec": {
   "display_name": "Python 3",
   "language": "python",
   "name": "python3"
  },
  "language_info": {
   "codemirror_mode": {
    "name": "ipython",
    "version": 3
   },
   "file_extension": ".py",
   "mimetype": "text/x-python",
   "name": "python",
   "nbconvert_exporter": "python",
   "pygments_lexer": "ipython3",
   "version": "3.6.0"
  }
 },
 "nbformat": 4,
 "nbformat_minor": 1
}
